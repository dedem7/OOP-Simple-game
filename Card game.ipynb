{
 "cells": [
  {
   "cell_type": "markdown",
   "id": "8a606078",
   "metadata": {},
   "source": [
    "# \"War\" card game."
   ]
  },
  {
   "cell_type": "markdown",
   "id": "06d43800",
   "metadata": {},
   "source": [
    "Deck has standard 52 cards, each numerical card has the same value as it's rank. Picture cards have the following values:\n",
    "Jack=11\n",
    "Queen=12\n",
    "King=13\n",
    "Ace=14\n",
    "The suits of cards have no affect in this game.\n",
    "\n",
    "Two players are involved. Deck is shuffled than is equally divided into two parts, 26 cards per each player.\n",
    "Cards are faced down, players simultaneously will grab from the top of their deck only one card and put this card faced up in order to compare who's card value is higher. The one who's card value is higher another's will take all cards and put them in the bottom of own deck. This will be continued until any of the player will not have any card.\n",
    "In case when two cards have the same value, the \"War\" will be announced.Each player should have at least 5 cards in the deck in order to continue the game. Players will open additional cards from their deck until the values will not be equal. Player with higher value will take all previous equal pairs of cards.  \n",
    "\n",
    "\n",
    "For more information: https://en.wikipedia.org/wiki/War_(card_game)"
   ]
  },
  {
   "cell_type": "markdown",
   "id": "6a505750",
   "metadata": {},
   "source": [
    "#### 1. Creation of card class. Card object will have two properties suit and rank."
   ]
  },
  {
   "cell_type": "code",
   "execution_count": 9,
   "id": "38429745",
   "metadata": {},
   "outputs": [],
   "source": [
    "class Card:\n",
    "    card_values=dict(two=2,three=3, four=4, five=5, six=6, seven=7, eight=8, nine=9, ten=10, jack=11, queen=12, king=13, ace=14)\n",
    " \n",
    "    def __init__(self, suit, rank):\n",
    "        self.suit=suit\n",
    "        self.rank=rank\n",
    "        try:\n",
    "            self.value=Card.card_values[rank.lower()]\n",
    "        except:\n",
    "            if rank>14:\n",
    "                raise ValueError(\"Value is high\")\n",
    "            else:\n",
    "                self.value=rank\n",
    "    def __str__(self):\n",
    "        return f\"{self.rank} of {self.suit}\"  "
   ]
  },
  {
   "cell_type": "markdown",
   "id": "817f0024",
   "metadata": {},
   "source": [
    "#### 2. Creation of deck class. Deck object can be shuffled, can deal the card and represent all cards it does contain."
   ]
  },
  {
   "cell_type": "code",
   "execution_count": 10,
   "id": "82201f7a",
   "metadata": {},
   "outputs": [],
   "source": [
    "#All possible suits and ranks of each card. They will be used to create each card and further to create a deck of this cards.\n",
    "suits=(\"Clubs\", \"Spades\", \"Hearts\",\"Diamonds\")\n",
    "ranks=(\"Two\",\"Three\", \"Four\", \"Five\", \"Six\", \"Seven\", \"Eight\", \"Nine\", \"Ten\", \"Jack\", \"Queen\", \"King\", \"Ace\")"
   ]
  },
  {
   "cell_type": "code",
   "execution_count": 17,
   "id": "6ec08c0f",
   "metadata": {},
   "outputs": [],
   "source": [
    "import random\n",
    "class Deck:  \n",
    "    #Creating a deck of 52 cards by creating at the same time each individual card\n",
    "    def __init__(self):\n",
    "        self.all_cards=[Card(x,y) for x in suits for y in ranks]\n",
    "    \n",
    "    \n",
    "    def shuffle_deck(self):\n",
    "        random.shuffle(self.all_cards)\n",
    "    \n",
    "    def deal_one(self):\n",
    "        return self.all_cards.pop()\n",
    "    \n",
    "    \n",
    "    def __repr__(self):\n",
    "        lst=[]\n",
    "        for i in range(len(self.all_cards)):\n",
    "            lst.append(f\"{self.all_cards[i]}\")\n",
    "        return f\"{lst}\"\n",
    "    \n",
    "    "
   ]
  },
  {
   "cell_type": "markdown",
   "id": "e2b73575",
   "metadata": {},
   "source": [
    "#### 3. Creation of player class. Player object will have a name and cards. Player will be able to get or/and put out the cards."
   ]
  },
  {
   "cell_type": "code",
   "execution_count": 12,
   "id": "ee4b35be",
   "metadata": {},
   "outputs": [],
   "source": [
    "class Player:\n",
    "    def __init__(self,name):\n",
    "        self.name=name\n",
    "        self.all_cards=[]\n",
    "        #self.cards=Deck.all_cards\n",
    "        #self.draw_card=None\n",
    "    \n",
    "    def remove(self):\n",
    "        return self.all_cards.pop(0)\n",
    "        \n",
    "    def add_cards(self, new_cards):\n",
    "        if type(new_cards)==type([]):\n",
    "            return self.all_cards.extend(new_cards)\n",
    "        else:\n",
    "            return self.all_cards.append(new_cards)\n",
    "        \n",
    "    def __str__(self):\n",
    "        return f\"Player {self.name} has {len(self.all_cards)} cards.\"\n",
    "            \n"
   ]
  },
  {
   "cell_type": "markdown",
   "id": "c7b5fd9c",
   "metadata": {},
   "source": [
    "#### 4. Let's play! :-)"
   ]
  },
  {
   "cell_type": "code",
   "execution_count": 24,
   "id": "ad8da5b3",
   "metadata": {},
   "outputs": [],
   "source": [
    "from IPython.display import clear_output\n",
    "\n",
    "players=[]\n",
    "for i in range(2):\n",
    "    name=''\n",
    "    while name=='':\n",
    "        print(\"What's your name?\")\n",
    "        name=(input(f\"Player {i+1}: \")).strip()    \n",
    "    players.append(Player(f\"{name}\"))\n",
    "    clear_output(wait=True)\n",
    "        \n",
    "p1=players[0]\n",
    "p2=players[1]\n",
    "\n",
    "    \n",
    "deck=Deck()\n",
    "deck.shuffle_deck()\n",
    "\n",
    "for i in range(26):\n",
    "        p1.add_cards(deck.deal_one())\n",
    "        p2.add_cards(deck.deal_one())\n",
    "\n",
    "\n",
    "game_on=True\n",
    "while game_on:\n",
    "    if len(p1.all_cards)==0:\n",
    "        print(\"\\n***Result!***\\n\")\n",
    "        print(f\"{p1.name} has no cards! {p2.name} wins!\")\n",
    "        game_on=False\n",
    "        break\n",
    "    \n",
    "    if len(p2.all_cards)==0:\n",
    "        print(\"\\n***Result!***\\n\")\n",
    "        print(f\"{p2.name} has no cards! {p1.name} wins!\")\n",
    "        game_on=False\n",
    "        break\n",
    "    \n",
    "    # Lists below player_one_cards and player_two_cards are needed for the case of \"war\" \n",
    "    player_one_cards=[]\n",
    "    player_one_cards.append(p1.remove())\n",
    "   \n",
    "    player_two_cards=[]\n",
    "    player_two_cards.append(p2.remove())\n",
    "       \n",
    "    at_war=True\n",
    "    while at_war:\n",
    "        print(\"****************\")\n",
    "        print(player_one_cards[-1])\n",
    "        print(player_two_cards[-1])\n",
    "        print(\"-->\")\n",
    "               \n",
    "        if player_one_cards[-1].value > player_two_cards[-1].value:\n",
    "            p1.add_cards(player_one_cards)\n",
    "            p1.add_cards(player_two_cards)\n",
    "            at_war=False\n",
    "            print(f\"{p1.name} takes all cards\")\n",
    "        elif player_one_cards[-1].value < player_two_cards[-1].value:\n",
    "            p2.add_cards(player_two_cards)\n",
    "            p2.add_cards(player_one_cards)\n",
    "            at_war=False\n",
    "            print(f\"{p2.name} takes all cards\")\n",
    "        else:\n",
    "            print(\"War!\")\n",
    "            \n",
    "            if len(p1.all_cards)<5:\n",
    "                print(\"\\n***Result!***\\n\")\n",
    "                print(f\"{p1.name} has no sufficient cards, {p2.name} wins!\")\n",
    "                game_on=False\n",
    "                break\n",
    "                \n",
    "            elif len(p2.all_cards)<5:\n",
    "                print(\"\\n***Result!***\\n\")\n",
    "                print(f\"{p2.name} has no sufficient cards, {p1.name} wins\")\n",
    "                game_on=False\n",
    "                break\n",
    "                \n",
    "            else:\n",
    "                for num in range(5):\n",
    "                    player_one_cards.append(p1.remove())\n",
    "                    player_two_cards.append(p2.remove())\n",
    "            "
   ]
  }
 ],
 "metadata": {
  "kernelspec": {
   "display_name": "Python 3",
   "language": "python",
   "name": "python3"
  },
  "language_info": {
   "codemirror_mode": {
    "name": "ipython",
    "version": 3
   },
   "file_extension": ".py",
   "mimetype": "text/x-python",
   "name": "python",
   "nbconvert_exporter": "python",
   "pygments_lexer": "ipython3",
   "version": "3.7.10"
  }
 },
 "nbformat": 4,
 "nbformat_minor": 5
}
